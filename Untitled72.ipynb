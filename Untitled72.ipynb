{
  "nbformat": 4,
  "nbformat_minor": 0,
  "metadata": {
    "colab": {
      "provenance": [],
      "authorship_tag": "ABX9TyO4xDiCkxXpiXrz8+IuaFek",
      "include_colab_link": true
    },
    "kernelspec": {
      "name": "python3",
      "display_name": "Python 3"
    },
    "language_info": {
      "name": "python"
    }
  },
  "cells": [
    {
      "cell_type": "markdown",
      "metadata": {
        "id": "view-in-github",
        "colab_type": "text"
      },
      "source": [
        "<a href=\"https://colab.research.google.com/github/KrystynaIsakova/favorita-project/blob/main/Untitled72.ipynb\" target=\"_parent\"><img src=\"https://colab.research.google.com/assets/colab-badge.svg\" alt=\"Open In Colab\"/></a>"
      ]
    },
    {
      "cell_type": "code",
      "execution_count": null,
      "metadata": {
        "id": "fIABy1nQRbcW"
      },
      "outputs": [],
      "source": [
        "df = pd.read_csv('file_name.csv')\n",
        "df = df[df['state']=='Pichincha']\n",
        "\n",
        "filtered_chunks = list()\n",
        "\n",
        "for chunk in pd.read_csv('file_name.csv', chuncksize = 100):\n",
        "  chunk_filtered = chunk[chunk['state']=='Pichincha']\n",
        "  filtered_chunks.append(chunk_filtered)\n",
        "\n",
        "df = pd.concat(filtered_chunks)"
      ]
    }
  ]
}